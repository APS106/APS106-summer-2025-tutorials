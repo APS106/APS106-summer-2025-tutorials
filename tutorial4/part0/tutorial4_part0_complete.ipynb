{
 "cells": [
  {
   "cell_type": "markdown",
   "id": "0a5e6e48",
   "metadata": {},
   "source": [
    "<div style=\"text-align:center; border: 2px solid #2E86C1; border-radius: 10px; padding: 30px; background-color: #F4F6F7;\">\n",
    "\n",
    "<h1 style=\"color:#154360; font-family:'Georgia', serif; font-size: 2.8em; margin-bottom: 20px;\">APS106: Fundamentals of Computer Programming</h1>\n",
    "\n",
    "<h2 style=\"color:#1A5276; font-family:'Palatino Linotype', 'Book Antiqua', serif; font-size: 2.0em; margin-bottom: 30px;\">Tutorial 3, Week 3</h2>\n",
    "\n",
    "<h3 style=\"color:#6C3483; font-family:'Cambria', serif; font-size: 1.8em; text-decoration: underline; margin-bottom: 15px;\">Topics Covered</h3>\n",
    "<p style=\"text-align:center; font-family:'Trebuchet MS', sans-serif; font-size: 1.3em; line-height: 1.8;\">\n",
    "  <span style=\"color:#D35400; font-weight:bold;\">Programming Concepts</span><br>\n",
    "  <span style=\"color:#283747;\">• File I/O</span><br>\n",
    "</p>\n",
    "\n",
    "<h3 style=\"color:#6C3483; font-family:'Cambria', serif; font-size: 1.8em; text-decoration: underline; margin-bottom: 15px;\">Goals for This Tutorial</h3>\n",
    "<p style=\"text-align:center; font-family:'Verdana', sans-serif; font-size: 1.2em; line-height: 1.8;\">\n",
    "  <span style=\"color:#21618C;\">• Know how to open, read, and write files.</span><br>\n",
    "\n",
    "</p>\n",
    "</div>"
   ]
  },
  {
   "cell_type": "markdown",
   "id": "89beb25d",
   "metadata": {},
   "source": [
    "### Today's Topics\n",
    "1. [File I/O](#section3)\n",
    "    - [Opening and Closing a File](#Section3a)\n",
    "    - [Writing to a File](#Section3b)\n",
    "        - [Problem 1: Writing to a Text File in Python](#Problem4)\n",
    "    - [Reading a File](#Section3c)\n",
    "        - [Problem 2: Acrostic Message](#Problem5)\n",
    "    - [Practice Problems](#problem-3-string-sum)"
   ]
  },
  {
   "cell_type": "markdown",
   "id": "6c0f5b1e",
   "metadata": {},
   "source": [
    "<a id='Section3'></a>\n",
    "# Section 1:  File I/Os"
   ]
  },
  {
   "cell_type": "markdown",
   "id": "a582bbb1",
   "metadata": {},
   "source": [
    "<a id='Section3a'></a>\n",
    "### Opening and Closing a File\n",
    "\n",
    "The general form for opening a file is:\n",
    "\n",
    "    myfile = open(file_path, mode)\n",
    "\n",
    "`mode` can be:\n",
    "-  `'r'` for reading\n",
    "- `'w'` for writing\n",
    "- `'a'` for appending\n",
    "- (`'r+'` for reading and writing)\n",
    "- (`'a+'` for appending and reading)\n",
    "\n",
    "`open()` returns a `file` object."
   ]
  },
  {
   "cell_type": "markdown",
   "id": "02b35778",
   "metadata": {},
   "source": [
    "To close a file, call the `close()` method for the `file` object:\n",
    "\n",
    "        myfile.close()\n",
    "\n",
    "Note: Always <span style=\"color:red;\"><b>close</b></span> a file that you’ve opened!\n",
    "- Many changes won't be saved until the file is closed\n",
    "- If a file is left open and later modified elsewhere, it might cause inconsistent results when accessed again"
   ]
  },
  {
   "cell_type": "markdown",
   "id": "a55ffd24",
   "metadata": {},
   "source": [
    "<a id='Section3b'></a>\n",
    "### Writing to a File\n",
    "\n",
    "To write to a file, first open a text file with the writing mode (<span style=\"color:red;\">\"w\"</span>):\n",
    "\n",
    "    myfile = open(\"test.txt\", \"w\")\n",
    "\n",
    "\n",
    "Then, call the `write` method:\n",
    "\n",
    "    myfile.write(\"My first file ...\")\n",
    "\n",
    "\n",
    "Once we have finished with the file, we need to close it:\n",
    "\n",
    "    myfile.close()\n"
   ]
  },
  {
   "cell_type": "markdown",
   "id": "f89e4ef1",
   "metadata": {},
   "source": [
    "<a id='Problem4'></a>\n",
    "## Problem 1: Writing to a Text File in Python\n",
    "\n",
    "Write a function that repeatedly asks the user for input until they enter `'close'`. Each input should be written to 'tutorial5_p4.txt', with each string appearing on a new line.\n",
    "\n",
    "Requirements:\n",
    "- The function should <b>repeatedly</b> ask the user for input.\n",
    "- Each input string should be written to 'tutorial5_p4.txt', starting on a <b>new line</b>.\n",
    "- The process should continue until the user enters <b>'close'</b>.\n",
    "- The keyword `'close'` to finish writing will not be written to the `.txt` file.\n",
    "\n",
    "Additional Requirements: \n",
    "- (The function should only stop if the input is exactly 'close' (case-sensitive). If 'close' appears as part of a longer string, the function should continue prompting.)\n",
    "- (The function will create an empty `.txt` file if the first input is `'close'`.)\n",
    "\n",
    "Instructions:\n",
    "- Try this question in your local environment! Download `tutorial5_starter.ipynb` and open it using VS Code, Terminal, or Command Prompt to work through the problem.\n",
    "- The `.txt` file should be created in the same folder as this notebook!"
   ]
  },
  {
   "cell_type": "code",
   "execution_count": 1,
   "id": "7add64d8",
   "metadata": {},
   "outputs": [
    {
     "name": "stdout",
     "output_type": "stream",
     "text": [
      "Enter a string (type 'close' to stop): apple\n",
      "Enter a string (type 'close' to stop): banana\n",
      "Enter a string (type 'close' to stop): cherry\n",
      "Enter a string (type 'close' to stop): flbeibgelige\n",
      "Enter a string (type 'close' to stop): close\n"
     ]
    }
   ],
   "source": [
    "def write_to_file():\n",
    "    filename = \"tutorial5_p4.txt\"\n",
    "\n",
    "    # Get the first user input\n",
    "    user_input = input(\"Enter a string (type 'close' to stop): \")\n",
    "\n",
    "    # Open the txt file named \"tutorial5_p4.txt\" with the writing mode\n",
    "    file = open(filename, \"w\")\n",
    "    \n",
    "    # If the input is 'close', finish writing. \n",
    "    # Otherwise go inside the while loop\n",
    "    while user_input != \"close\":            \n",
    "        # Otherwise, write the new input to the file\n",
    "        file.write(user_input + \"\\n\")\n",
    "\n",
    "        # Ask for the user input\n",
    "        user_input = input(\"Enter a string (type 'close' to stop): \")\n",
    "\n",
    "    # close the file\n",
    "    file.close()\n",
    "            \n",
    "# Run the function\n",
    "write_to_file()"
   ]
  },
  {
   "cell_type": "markdown",
   "id": "cee6b97d",
   "metadata": {},
   "source": [
    "<a id='Section3c'></a>\n",
    "### Reading a File\n",
    "\n",
    "To read a file, first open a text file with the reading mode (<span style=\"color:red;\">\"r\"</span>):\n",
    "\n",
    "    storyfile = open(\"my_story.txt\", \"r\")\n",
    "\n",
    "#### Approach 1: Call the `read` method\n",
    "\n",
    "    story_string = storyfile.read()\n",
    "    \n",
    "<b>WARNING</b>: this approach is not optimal when the text file is large!\n",
    "\n",
    "#### Approach 2: Call the `readline` method\n",
    "\n",
    "```python\n",
    "storyfile = open(\"my_story.txt\", \"r\")\n",
    "# This reads only the first line\n",
    "line = storyfile.readline()\n",
    "contents = \"\"\n",
    "\n",
    "# We loop through the rest of the file, \n",
    "# one line at a time until we get to an empty line (\"\")\n",
    "while line != \"\":\n",
    "    # Append the line to the contents string iteratively. \n",
    "    # The \\n is preserved\n",
    "\tcontents += line\n",
    "\tline = storyfile.readline()\n",
    "\n",
    "# Don't forget to close the file!\n",
    "myfile.close()\n",
    "\n",
    "# To print out the file contents, print the variable we created\n",
    "print(contents)\n",
    "\n",
    "\n",
    "```"
   ]
  },
  {
   "cell_type": "markdown",
   "id": "13cb9d8f",
   "metadata": {},
   "source": [
    "<a id='Problem5'></a>\n",
    "## Problem 2: Acrostic Message\n",
    "\n",
    "Write a function that reads a `.txt` file and returns a string formed by concatenating the first letter of each line in the file.\n",
    "\n",
    "Requirements:\n",
    "- The input is a filename (e.g., `\"acrostic.txt\"`).\n",
    "- You can assume that there is no empty line in the text.\n",
    "\n",
    "<b>Example Input</b> (`\"acrostic.txt\"`):\n",
    "\n",
    "Curled up cozy in the sun,\n",
    "\n",
    "Always purring just for fun.\n",
    "\n",
    "Tiptoes silent, eyes so bright,\n",
    "\n",
    "Lazing soft in morning light.\n",
    "\n",
    "Over tables, chairs, and more,\n",
    "\n",
    "Vaulting high, they soar and soar.\n",
    "\n",
    "Every moment full of grace,\n",
    "\n",
    "Running free—a feline chase!\n",
    "\n",
    "<b>Output: </b>\n",
    "CATLOVER"
   ]
  },
  {
   "cell_type": "code",
   "execution_count": 104,
   "id": "7a0b566f",
   "metadata": {},
   "outputs": [
    {
     "name": "stdout",
     "output_type": "stream",
     "text": [
      "CATLOVER\n"
     ]
    }
   ],
   "source": [
    "def read_acrostic(filename):\n",
    "    string = \"\"\n",
    "    file = open(filename, \"r\") # Open the file with the reading mode\n",
    "\n",
    "    line = file.readline() # The first line\n",
    "    while line != '':\n",
    "        string += line[0] # Add the first character to the string\n",
    "\n",
    "        line = file.readline()  # Read the next line\n",
    "    return string\n",
    "\n",
    "# Example Usage\n",
    "result = read_acrostic(\"acrostic.txt\")\n",
    "print(result)\n"
   ]
  },
  {
   "cell_type": "markdown",
   "id": "33466359",
   "metadata": {},
   "source": [
    "<a id='Problem6'></a>\n",
    "## Problem 3: String Sum\n",
    "\n",
    "write a function `string_sum()` that takes in a string and returns the sum of the digits that appear in the input string. Characters other than digits are ignored.\n",
    "\n",
    "\t>>> string_sum(\"PYnative29@#8496\") \n",
    "         38\n",
    "\n",
    "Additional requirement: \n",
    " use a `while` loop to solve this question.\n",
    "\n",
    "\n",
    "\n",
    "\n"
   ]
  },
  {
   "cell_type": "code",
   "execution_count": 1,
   "id": "b0c0e3f6",
   "metadata": {},
   "outputs": [
    {
     "name": "stdout",
     "output_type": "stream",
     "text": [
      "38\n"
     ]
    }
   ],
   "source": [
    "def string_sum(s):\n",
    "    total = 0\n",
    "    i = 0\n",
    "    \n",
    "    while i < len(s):\n",
    "        if s[i].isdigit():\n",
    "            total += int(s[i])\n",
    "        i += 1\n",
    "    \n",
    "    return total\n",
    "\n",
    "# Example usage\n",
    "print(string_sum(\"PYnative29@#8496\"))  # Output: 38\n"
   ]
  },
  {
   "cell_type": "markdown",
   "id": "df5c3ee1",
   "metadata": {},
   "source": [
    "<a id='Problem7'></a>\n",
    "## Problem 4: Longest Digit Substring\n",
    "\n",
    "Write a function `longest_digit_substring()` that takes in a string and returns the longest consecutive substring of digits (0-9) found in the input string. If there are multiple substrings of the same length, return the first one. If no digits are found, return an empty string.\n",
    "\n",
    "    >>> longest_digit_substring(\"The year 2024 is here, but 123456 is longer!\")  \n",
    "    \"123456\"\n",
    "\n",
    "    >>> longest_digit_substring(\"abc99def888ghi7777\")\n",
    "    \"7777\"\n",
    "\n",
    "    >>> longest_digit_substring(\"No numbers here!\")  \n",
    "\n",
    "Additional Requirement:\n",
    "- Use a `while` loop to solve this question."
   ]
  },
  {
   "cell_type": "code",
   "execution_count": 2,
   "id": "3e242ebe",
   "metadata": {},
   "outputs": [
    {
     "name": "stdout",
     "output_type": "stream",
     "text": [
      "123456\n",
      "7777\n",
      "\n",
      "567890\n"
     ]
    }
   ],
   "source": [
    "def longest_digit_substring(s):\n",
    "    longest = \"\"\n",
    "    current = \"\"\n",
    "    i = 0\n",
    "    while i < len(s):\n",
    "        if s[i].isdigit():\n",
    "            current += s[i]\n",
    "        else:\n",
    "            if len(current) > len(longest):\n",
    "                longest = current\n",
    "            current = \"\"  # Reset current substring\n",
    "        \n",
    "        i += 1\n",
    "    \n",
    "    # Final check in case the longest sequence is at the end\n",
    "    # (i.e., s[i].isdigit() was True in the final iteration of the while loop)\n",
    "    if len(current) > len(longest):\n",
    "        longest = current\n",
    "\n",
    "    return longest\n",
    "\n",
    "# Test cases\n",
    "print(longest_digit_substring(\"The year 2024 is here, but 123456 is longer!\"))  # \"123456\"\n",
    "print(longest_digit_substring(\"abc99def888ghi7777\"))  # \"7777\"\n",
    "print(longest_digit_substring(\"No numbers here!\"))  # \"\"\n",
    "print(longest_digit_substring(\"1234abcd567890\"))  # \"567890\""
   ]
  }
 ],
 "metadata": {
  "kernelspec": {
   "display_name": "costimate-ml",
   "language": "python",
   "name": "python3"
  },
  "language_info": {
   "codemirror_mode": {
    "name": "ipython",
    "version": 3
   },
   "file_extension": ".py",
   "mimetype": "text/x-python",
   "name": "python",
   "nbconvert_exporter": "python",
   "pygments_lexer": "ipython3",
   "version": "3.12.3"
  }
 },
 "nbformat": 4,
 "nbformat_minor": 5
}
