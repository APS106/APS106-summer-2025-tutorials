{
 "cells": [
  {
   "cell_type": "markdown",
   "id": "0a5e6e48",
   "metadata": {},
   "source": [
    "<div style=\"text-align:center; border: 2px solid #2E86C1; border-radius: 10px; padding: 30px; background-color: #F4F6F7;\">\n",
    "\n",
    "<h1 style=\"color:#154360; font-family:'Georgia', serif; font-size: 2.8em; margin-bottom: 20px;\">APS106: Fundamentals of Computer Programming</h1>\n",
    "\n",
    "<h2 style=\"color:#1A5276; font-family:'Palatino Linotype', 'Book Antiqua', serif; font-size: 2.0em; margin-bottom: 30px;\">Tutorial 3, Week 3</h2>\n",
    "\n",
    "<h3 style=\"color:#6C3483; font-family:'Cambria', serif; font-size: 1.8em; text-decoration: underline; margin-bottom: 15px;\">Topics Covered</h3>\n",
    "<p style=\"text-align:center; font-family:'Trebuchet MS', sans-serif; font-size: 1.3em; line-height: 1.8;\">\n",
    "  <span style=\"color:#D35400; font-weight:bold;\">Programming Concepts</span><br>\n",
    "  <span style=\"color:#283747;\">• File I/O</span><br>\n",
    "</p>\n",
    "\n",
    "<h3 style=\"color:#6C3483; font-family:'Cambria', serif; font-size: 1.8em; text-decoration: underline; margin-bottom: 15px;\">Goals for This Tutorial</h3>\n",
    "<p style=\"text-align:center; font-family:'Verdana', sans-serif; font-size: 1.2em; line-height: 1.8;\">\n",
    "  <span style=\"color:#21618C;\">• Know how to open, read, and write files.</span><br>\n",
    "\n",
    "</p>\n",
    "</div>"
   ]
  },
  {
   "cell_type": "markdown",
   "id": "89beb25d",
   "metadata": {},
   "source": [
    "### Today's Topics\n",
    "1. [File I/O](#section3)\n",
    "    - [Opening and Closing a File](#Section3a)\n",
    "    - [Writing to a File](#Section3b)\n",
    "        - [Problem 1: Writing to a Text File in Python](#Problem4)\n",
    "    - [Reading a File](#Section3c)\n",
    "        - [Problem 2: Acrostic Message](#Problem5)\n",
    "    - [Practice Problems](#problem-3-string-sum)\n",
    "    "
   ]
  },
  {
   "cell_type": "markdown",
   "id": "6c0f5b1e",
   "metadata": {},
   "source": [
    "<a id='Section3'></a>\n",
    "# Section 1:  File I/Os"
   ]
  },
  {
   "cell_type": "markdown",
   "id": "a582bbb1",
   "metadata": {},
   "source": [
    "<a id='Section3a'></a>\n",
    "### Opening and Closing a File\n",
    "\n",
    "The general form for opening a file is:\n",
    "\n",
    "    myfile = open(file_path, mode)\n",
    "\n",
    "`mode` can be:\n",
    "-  `'r'` for reading\n",
    "- `'w'` for writing\n",
    "- `'a'` for appending\n",
    "- (`'r+'` for reading and writing)\n",
    "- (`'a+'` for appending and reading)\n",
    "\n",
    "`open()` returns a `file` object."
   ]
  },
  {
   "cell_type": "markdown",
   "id": "02b35778",
   "metadata": {},
   "source": [
    "To close a file, call the `close()` method for the `file` object:\n",
    "\n",
    "        myfile.close()\n",
    "\n",
    "Note: Always <span style=\"color:red;\"><b>close</b></span> a file that you’ve opened!\n",
    "- Many changes won't be saved until the file is closed\n",
    "- If a file is left open and later modified elsewhere, it might cause inconsistent results when accessed again"
   ]
  },
  {
   "cell_type": "markdown",
   "id": "a55ffd24",
   "metadata": {},
   "source": [
    "<a id='Section3b'></a>\n",
    "### Writing to a File\n",
    "\n",
    "To write to a file, first open a text file with the writing mode (<span style=\"color:red;\">\"w\"</span>):\n",
    "\n",
    "    myfile = open(\"test.txt\", \"w\")\n",
    "\n",
    "\n",
    "Then, call the `write` method:\n",
    "\n",
    "    myfile.write(\"My first file ...\")\n",
    "\n",
    "\n",
    "Once we have finished with the file, we need to close it:\n",
    "\n",
    "    myfile.close()\n"
   ]
  },
  {
   "cell_type": "code",
   "execution_count": null,
   "id": "22009510",
   "metadata": {},
   "outputs": [],
   "source": [
    "with open('file.txt', 'r') as f:\n",
    "    context = f.read()\n",
    "\n",
    "f = open('file.txt', 'r')\n",
    "context = f.read()\n",
    "f.close()"
   ]
  },
  {
   "cell_type": "markdown",
   "id": "f89e4ef1",
   "metadata": {},
   "source": [
    "<a id='Problem4'></a>\n",
    "## Problem 1: Writing to a Text File in Python\n",
    "\n",
    "Write a function that repeatedly asks the user for input until they enter `'close'`. Each input should be written to 'tutorial5_p4.txt', with each string appearing on a new line.\n",
    "\n",
    "Requirements:\n",
    "- The function should <b>repeatedly</b> ask the user for input.\n",
    "- Each input string should be written to 'tutorial5_p4.txt', starting on a <b>new line</b>.\n",
    "- The process should continue until the user enters <b>'close'</b>.\n",
    "- The keyword `'close'` to finish writing will not be written to the `.txt` file.\n",
    "\n",
    "Additional Requirements: \n",
    "- (The function should only stop if the input is exactly 'close' (case-sensitive). If 'close' appears as part of a longer string, the function should continue prompting.)\n",
    "- (The function will create an empty `.txt` file if the first input is `'close'`.)\n",
    "\n",
    "Instructions:\n",
    "- Try this question in your local environment! Download `tutorial4_part0_starter.ipynb` and open it using VS Code, Terminal, or Command Prompt to work through the problem.\n",
    "- The `.txt` file should be created in the same folder as this notebook!"
   ]
  },
  {
   "cell_type": "code",
   "execution_count": null,
   "id": "dd92ce5e",
   "metadata": {},
   "outputs": [],
   "source": [
    "def write_to_file():\n",
    "    f = open('file.txt', 'w')\n",
    "    user_input = input('what is the input?')\n",
    "    while user_input.lower().strip() != 'close':\n",
    "        f.write(user_input + '\\n')\n",
    "        user_input = input('what is the input?')\n",
    "    \n",
    "    f.close()\n",
    "\n",
    "write_to_file()"
   ]
  },
  {
   "cell_type": "code",
   "execution_count": 8,
   "id": "7add64d8",
   "metadata": {},
   "outputs": [],
   "source": [
    "def write_to_file():\n",
    "    ans = ''\n",
    "    user_input = input('what is the input?')\n",
    "    while user_input.lower().strip() != 'close':\n",
    "        ans += user_input\n",
    "        ans += '\\n'\n",
    "        user_input = input('what is the input?')\n",
    "    \n",
    "    with open('file.txt', 'w') as f:\n",
    "        f.write(ans)\n",
    "    \n",
    "\n",
    "\n",
    "write_to_file() # Try typing \"apple\" \"banana\" \"cherry\" \"close\""
   ]
  },
  {
   "cell_type": "markdown",
   "id": "cee6b97d",
   "metadata": {},
   "source": [
    "<a id='Section3c'></a>\n",
    "### Reading a File\n",
    "\n",
    "To read a file, first open a text file with the reading mode (<span style=\"color:red;\">\"r\"</span>):\n",
    "\n",
    "    storyfile = open(\"my_story.txt\", \"r\")\n",
    "\n",
    "#### Approach 1: Call the `read` method\n",
    "\n",
    "    story_string = storyfile.read()\n",
    "    \n",
    "<b>WARNING</b>: this approach is not optimal when the text file is large!\n",
    "\n",
    "#### Approach 2: Call the `readline` method\n",
    "\n",
    "```python\n",
    "storyfile = open(\"my_story.txt\", \"r\")\n",
    "# This reads only the first line\n",
    "line = storyfile.readline()\n",
    "contents = \"\"\n",
    "\n",
    "# We loop through the rest of the file, \n",
    "# one line at a time until we get to an empty line (\"\")\n",
    "while line != \"\":\n",
    "    # Append the line to the contents string iteratively. \n",
    "    # The \\n is preserved\n",
    "\tcontents += line\n",
    "\tline = storyfile.readline()\n",
    "\n",
    "# Don't forget to close the file!\n",
    "myfile.close()\n",
    "\n",
    "# To print out the file contents, print the variable we created\n",
    "print(contents)\n",
    "\n",
    "\n",
    "```"
   ]
  },
  {
   "cell_type": "markdown",
   "id": "13cb9d8f",
   "metadata": {},
   "source": [
    "<a id='Problem5'></a>\n",
    "## Problem 2: Acrostic Message\n",
    "\n",
    "Write a function that reads a `.txt` file and returns a string formed by concatenating the first letter of each line in the file.\n",
    "\n",
    "Requirements:\n",
    "- The input is a filename (e.g., `\"acrostic.txt\"`).\n",
    "- You can assume that there is no empty line in the text.\n",
    "\n",
    "<b>Example Input</b> (`\"acrostic.txt\"`):\n",
    "\n",
    "Curled up cozy in the sun,\n",
    "\n",
    "Always purring just for fun.\n",
    "\n",
    "Tiptoes silent, eyes so bright,\n",
    "\n",
    "Lazing soft in morning light.\n",
    "\n",
    "Over tables, chairs, and more,\n",
    "\n",
    "Vaulting high, they soar and soar.\n",
    "\n",
    "Every moment full of grace,\n",
    "\n",
    "Running free—a feline chase!\n",
    "\n",
    "<b>Output: </b>\n",
    "CATLOVER"
   ]
  },
  {
   "cell_type": "code",
   "execution_count": null,
   "id": "7a0b566f",
   "metadata": {},
   "outputs": [
    {
     "data": {
      "text/plain": [
       "'CATLOVER'"
      ]
     },
     "execution_count": 9,
     "metadata": {},
     "output_type": "execute_result"
    }
   ],
   "source": [
    "# Write your code\n",
    "ans = ''\n",
    "\n",
    "with open('/Users/ali/Library/CloudStorage/OneDrive-UniversityofToronto/UofT_PhD/TAShip/25-04-14_APS106/APS106-summer-2025-tutorials/tutorial4/part0/acrostic.txt', 'r') as f:\n",
    "    line = f.readline()\n",
    "    while line != '':\n",
    "        ans += line[0]\n",
    "        line = f.readline()\n",
    "f.close()\n",
    "ans"
   ]
  },
  {
   "cell_type": "code",
   "execution_count": 17,
   "id": "78df43de",
   "metadata": {},
   "outputs": [
    {
     "data": {
      "text/plain": [
       "'Curled up cozy in the sun,\\nAlways purring just for fun.\\nTiptoes silent, eyes so bright,\\nLazing soft in morning light.\\nOver tables, chairs, and more,\\nVaulting high, they soar and soar.\\nEvery moment full of grace,\\nRunning free—a feline chase!'"
      ]
     },
     "execution_count": 17,
     "metadata": {},
     "output_type": "execute_result"
    }
   ],
   "source": [
    "context"
   ]
  },
  {
   "cell_type": "code",
   "execution_count": null,
   "id": "77c978eb",
   "metadata": {},
   "outputs": [
    {
     "data": {
      "text/plain": [
       "'CATLOVER'"
      ]
     },
     "execution_count": 16,
     "metadata": {},
     "output_type": "execute_result"
    }
   ],
   "source": [
    "ans = ''\n",
    "\n",
    "# with open('acrostic.txt', 'r') as f:\n",
    "#     context = f.read()\n",
    "\n",
    "f = open('acrostic.txt', 'r')\n",
    "context = f.read()\n",
    "f.close()\n",
    "# print(context)\n",
    "ans += context[0]\n",
    "for i in range(len(context)):\n",
    "    char = context[i]\n",
    "    if char == '\\n':\n",
    "        ans += context[i+1]\n",
    "\n",
    "ans"
   ]
  },
  {
   "cell_type": "markdown",
   "id": "01696d1c",
   "metadata": {},
   "source": [
    "<a id='Problem6'></a>\n",
    "## Problem 3: String Sum\n",
    "\n",
    "write a function `string_sum()` that takes in a string and returns the sum of the digits that appear in the input string. Characters other than digits are ignored.\n",
    "\n",
    "\t>>> string_sum(\"PYnative29@#8496\") \n",
    "         38\n",
    "\n",
    "Additional requirement: \n",
    " use a `while` loop to solve this question.\n",
    "\n",
    "\n",
    "\n",
    "\n"
   ]
  },
  {
   "cell_type": "code",
   "execution_count": null,
   "id": "bf001f9f",
   "metadata": {},
   "outputs": [],
   "source": [
    "# Write your code"
   ]
  },
  {
   "cell_type": "markdown",
   "id": "656922ee",
   "metadata": {},
   "source": [
    "<a id='Problem7'></a>\n",
    "## Problem 4: Longest Digit Substring\n",
    "\n",
    "Write a function `longest_digit_substring()` that takes in a string and returns the longest consecutive substring of digits (0-9) found in the input string. If there are multiple substrings of the same length, return the first one. If no digits are found, return an empty string.\n",
    "\n",
    "    >>> longest_digit_substring(\"The year 2024 is here, but 123456 is longer!\")  \n",
    "    \"123456\"\n",
    "\n",
    "    >>> longest_digit_substring(\"abc99def888ghi7777\")\n",
    "    \"7777\"\n",
    "\n",
    "    >>> longest_digit_substring(\"No numbers here!\")  \n",
    "\n",
    "Additional Requirement:\n",
    "- Use a `while` loop to solve this question."
   ]
  },
  {
   "cell_type": "code",
   "execution_count": 20,
   "id": "aa2b46aa",
   "metadata": {},
   "outputs": [
    {
     "name": "stdout",
     "output_type": "stream",
     "text": [
      "7777\n"
     ]
    }
   ],
   "source": [
    "inp = 'abc99def888ghi7777'\n",
    "\n",
    "long = ''\n",
    "digits = ''\n",
    "\n",
    "while inp:\n",
    "    char = inp[0]\n",
    "    if char.isdigit():\n",
    "        digits += char\n",
    "    else:\n",
    "        if len(digits) > len(long):\n",
    "            long = digits\n",
    "        digits = ''\n",
    "\n",
    "    inp = inp[1:]\n",
    "\n",
    "if len(digits) > len(long):\n",
    "    long = digits\n",
    "print(long)"
   ]
  },
  {
   "cell_type": "code",
   "execution_count": 19,
   "id": "2244be2b",
   "metadata": {},
   "outputs": [
    {
     "data": {
      "text/plain": [
       "'7777'"
      ]
     },
     "execution_count": 19,
     "metadata": {},
     "output_type": "execute_result"
    }
   ],
   "source": [
    "digits"
   ]
  },
  {
   "cell_type": "code",
   "execution_count": null,
   "id": "3ba7062d",
   "metadata": {},
   "outputs": [],
   "source": [
    "# Write your code"
   ]
  }
 ],
 "metadata": {
  "kernelspec": {
   "display_name": "costimate-ml",
   "language": "python",
   "name": "python3"
  },
  "language_info": {
   "codemirror_mode": {
    "name": "ipython",
    "version": 3
   },
   "file_extension": ".py",
   "mimetype": "text/x-python",
   "name": "python",
   "nbconvert_exporter": "python",
   "pygments_lexer": "ipython3",
   "version": "3.12.3"
  }
 },
 "nbformat": 4,
 "nbformat_minor": 5
}
